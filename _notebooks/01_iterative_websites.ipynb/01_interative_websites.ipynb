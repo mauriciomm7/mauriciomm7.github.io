{
 "cells": [
  {
   "cell_type": "markdown",
   "metadata": {},
   "source": [
    "# 00 Working with Interactive Websites"
   ]
  },
  {
   "cell_type": "code",
   "execution_count": null,
   "metadata": {},
   "outputs": [
    {
     "name": "stdout",
     "output_type": "stream",
     "text": [
      "Opened DuckDuckGo\n"
     ]
    }
   ],
   "source": [
    "from selenium import webdriver\n",
    "from selenium.webdriver.common.by import By\n",
    "from selenium.webdriver.common.keys import Keys\n",
    "import time\n",
    "\n",
    "# Open browser\n",
    "driver = webdriver.Chrome()\n",
    "\n",
    "# Go to DuckDuckGo\n",
    "driver.get(\"https://duckduckgo.com\")\n",
    "print(\"Opened DuckDuckGo\")\n",
    "\n",
    "# Wait for user to continue\n",
    "input(\"Press Enter to search for 'cats'...\")\n",
    "\n",
    "# Find search box by its name and type \"cats\"\n",
    "search_box = driver.find_element(By.NAME, \"q\")\n",
    "search_box.send_keys(\"cats\")\n",
    "search_box.send_keys(Keys.RETURN)\n",
    "\n",
    "# Wait a little to let results load\n",
    "time.sleep(2)\n",
    "\n",
    "input(\"Press Enter to go to example.com...\")\n",
    "\n",
    "# Navigate to a different public site\n",
    "driver.get(\"https://example.com\")\n",
    "\n",
    "input(\"Press Enter to go back...\")\n",
    "\n",
    "# Go back to DuckDuckGo search results\n",
    "driver.back()\n",
    "\n",
    "input(\"Press Enter to go forward...\")\n",
    "\n",
    "# Go forward to example.com again\n",
    "driver.forward()\n",
    "\n",
    "input(\"Press Enter to refresh the page...\")\n",
    "\n",
    "# Refresh the current page\n",
    "driver.refresh()\n",
    "\n",
    "input(\"Press Enter to close the browser...\")\n",
    "\n",
    "# Close browser\n",
    "driver.quit()"
   ]
  },
  {
   "cell_type": "code",
   "execution_count": null,
   "metadata": {},
   "outputs": [],
   "source": []
  }
 ],
 "metadata": {
  "kernelspec": {
   "display_name": "blacksmith",
   "language": "python",
   "name": "python3"
  },
  "language_info": {
   "codemirror_mode": {
    "name": "ipython",
    "version": 3
   },
   "file_extension": ".py",
   "mimetype": "text/x-python",
   "name": "python",
   "nbconvert_exporter": "python",
   "pygments_lexer": "ipython3",
   "version": "3.12.4"
  }
 },
 "nbformat": 4,
 "nbformat_minor": 2
}
